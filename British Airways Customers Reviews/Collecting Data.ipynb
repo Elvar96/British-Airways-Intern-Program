{
 "cells": [
  {
   "cell_type": "markdown",
   "id": "0679fe2a-fe89-41fa-8928-5378d2f2b10e",
   "metadata": {},
   "source": [
    "## Collecting Data"
   ]
  },
  {
   "cell_type": "markdown",
   "id": "c6db6342-0e4a-4fec-b516-a2a7afaacd9f",
   "metadata": {},
   "source": [
    "To execute this phase of the project, we will focus on the following key data points:\n",
    "\n",
    "Date of Travel: We will extract the dates when customers traveled, allowing us to analyze trends and patterns over time.\n",
    "\n",
    "Customer Reviews: Our aim is to scrape in-depth reviews written by customers, providing us with valuable feedback and suggestions.\n",
    "\n",
    "Customer Origin: We will collect information about the geographical locations of our customers, helping us understand the diversity of our clientele.\n",
    "\n",
    "Flight Ratings: We will be capturing the ratings assigned by customers for their flights on a scale of 1 to 10, enabling us to assess overall flight satisfaction levels.\n"
   ]
  },
  {
   "cell_type": "code",
   "execution_count": 49,
   "id": "1ef9102a-6fdf-4681-974c-15469a4900ed",
   "metadata": {},
   "outputs": [],
   "source": [
    "import requests\n",
    "from bs4 import BeautifulSoup\n",
    "import pandas as pd"
   ]
  },
  {
   "cell_type": "code",
   "execution_count": 50,
   "id": "eaa6469f-8dd5-4de4-a57d-5615e9d582f7",
   "metadata": {},
   "outputs": [],
   "source": [
    "#Let's create some empty to get data from website\n",
    "date = []\n",
    "reviews = []\n",
    "country = []\n",
    "stars = []\n",
    "\n",
    "for i in range(1, 50):\n",
    "    page = requests.get(f\"https://www.airlinequality.com/airline-reviews/british-airways/page/{i}/?sortby=post_date%3ADesc&pagesize=50\")\n",
    "    soup = BeautifulSoup(page.content, \"html.parser\")\n",
    "\n",
    "    for item in soup.find_all(\"div\", class_=\"text_content\"):\n",
    "        reviews.append(item.text)\n",
    "\n",
    "    for item in soup.find_all(\"div\", class_=\"rating-10\"):\n",
    "        try:\n",
    "            stars.append(item.span.text)\n",
    "        except:\n",
    "            print(f\"Error on page {i}\")\n",
    "            stars.append(\"None\")\n",
    "\n",
    "    for item in soup.find_all(\"time\"):\n",
    "        date.append(item.text)\n",
    "\n",
    "    for item in soup.find_all(\"h3\"):\n",
    "        country.append(item.span.next_sibling.text.strip(\" ()\"))\n"
   ]
  },
  {
   "cell_type": "code",
   "execution_count": 51,
   "id": "d5e4e362-f975-4fa0-98ad-b96dbae37e0b",
   "metadata": {},
   "outputs": [
    {
     "data": {
      "text/plain": [
       "(2450, 2450, 2450, 2499)"
      ]
     },
     "execution_count": 51,
     "metadata": {},
     "output_type": "execute_result"
    }
   ],
   "source": [
    "#Let's check length of date,reviews,country and stars because it is import before creating a dataframe\n",
    "len(date),len(reviews),len(country),len(stars)"
   ]
  },
  {
   "cell_type": "code",
   "execution_count": 53,
   "id": "c017ecd3-978b-47a6-b50e-66a7a8b34e3c",
   "metadata": {},
   "outputs": [],
   "source": [
    "#Let's make stars columns in the same size with others columns to create a dataframe otherwise we can not create\n",
    "stars=stars[:len(reviews)]"
   ]
  },
  {
   "cell_type": "code",
   "execution_count": 60,
   "id": "85487ff8-c031-48d6-b0aa-a3952d302494",
   "metadata": {},
   "outputs": [],
   "source": [
    "# It is time to set up a dictionary to create the DataFrame\n",
    "data = {\n",
    "    \"Date\": date,\n",
    "    \"Review\": reviews,\n",
    "    \"Country\": country,\n",
    "    \"Star Rating\": stars\n",
    "   \n",
    "}\n",
    "\n",
    "# Create the DataFrame\n",
    "data = pd.DataFrame(data)"
   ]
  },
  {
   "cell_type": "code",
   "execution_count": 62,
   "id": "b7ea1f05-9cb4-4291-8dbf-42e2a8844207",
   "metadata": {},
   "outputs": [
    {
     "data": {
      "text/html": [
       "<div>\n",
       "<style scoped>\n",
       "    .dataframe tbody tr th:only-of-type {\n",
       "        vertical-align: middle;\n",
       "    }\n",
       "\n",
       "    .dataframe tbody tr th {\n",
       "        vertical-align: top;\n",
       "    }\n",
       "\n",
       "    .dataframe thead th {\n",
       "        text-align: right;\n",
       "    }\n",
       "</style>\n",
       "<table border=\"1\" class=\"dataframe\">\n",
       "  <thead>\n",
       "    <tr style=\"text-align: right;\">\n",
       "      <th></th>\n",
       "      <th>Date</th>\n",
       "      <th>Review</th>\n",
       "      <th>Country</th>\n",
       "      <th>Star Rating</th>\n",
       "    </tr>\n",
       "  </thead>\n",
       "  <tbody>\n",
       "    <tr>\n",
       "      <th>0</th>\n",
       "      <td>24th July 2023</td>\n",
       "      <td>Not Verified | I booked Premium Economy from I...</td>\n",
       "      <td>United Kingdom</td>\n",
       "      <td>\\n\\t\\t\\t\\t\\t\\t\\t\\t\\t\\t\\t\\t\\t5</td>\n",
       "    </tr>\n",
       "    <tr>\n",
       "      <th>1</th>\n",
       "      <td>21st July 2023</td>\n",
       "      <td>✅ Trip Verified | A simple story with an unfor...</td>\n",
       "      <td>Germany</td>\n",
       "      <td>1</td>\n",
       "    </tr>\n",
       "    <tr>\n",
       "      <th>2</th>\n",
       "      <td>21st July 2023</td>\n",
       "      <td>✅ Trip Verified |  Flight was delayed due to t...</td>\n",
       "      <td>United Kingdom</td>\n",
       "      <td>1</td>\n",
       "    </tr>\n",
       "    <tr>\n",
       "      <th>3</th>\n",
       "      <td>20th July 2023</td>\n",
       "      <td>Not Verified |  Fast and friendly check in (to...</td>\n",
       "      <td>United Kingdom</td>\n",
       "      <td>4</td>\n",
       "    </tr>\n",
       "    <tr>\n",
       "      <th>4</th>\n",
       "      <td>20th July 2023</td>\n",
       "      <td>✅ Trip Verified |  I don't understand why Brit...</td>\n",
       "      <td>United Kingdom</td>\n",
       "      <td>8</td>\n",
       "    </tr>\n",
       "  </tbody>\n",
       "</table>\n",
       "</div>"
      ],
      "text/plain": [
       "             Date                                             Review  \\\n",
       "0  24th July 2023  Not Verified | I booked Premium Economy from I...   \n",
       "1  21st July 2023  ✅ Trip Verified | A simple story with an unfor...   \n",
       "2  21st July 2023  ✅ Trip Verified |  Flight was delayed due to t...   \n",
       "3  20th July 2023  Not Verified |  Fast and friendly check in (to...   \n",
       "4  20th July 2023  ✅ Trip Verified |  I don't understand why Brit...   \n",
       "\n",
       "          Country                    Star Rating  \n",
       "0  United Kingdom  \\n\\t\\t\\t\\t\\t\\t\\t\\t\\t\\t\\t\\t\\t5  \n",
       "1         Germany                              1  \n",
       "2  United Kingdom                              1  \n",
       "3  United Kingdom                              4  \n",
       "4  United Kingdom                              8  "
      ]
     },
     "execution_count": 62,
     "metadata": {},
     "output_type": "execute_result"
    }
   ],
   "source": [
    "#First 5 rows of data\n",
    "data.head()"
   ]
  },
  {
   "cell_type": "markdown",
   "id": "a6f03127-6f42-4689-be6f-1d480db29391",
   "metadata": {},
   "source": [
    "## Convert the dataset to csv format to work on it."
   ]
  },
  {
   "cell_type": "code",
   "execution_count": 63,
   "id": "f7a4636d-10ca-455d-8cfe-7dba4e3aacb7",
   "metadata": {},
   "outputs": [],
   "source": [
    "data.to_csv('British_Airways_reviews.csv', index=False)"
   ]
  },
  {
   "cell_type": "code",
   "execution_count": null,
   "id": "8816800c-411b-453f-b96f-f3131bc7cdab",
   "metadata": {},
   "outputs": [],
   "source": []
  }
 ],
 "metadata": {
  "kernelspec": {
   "display_name": "Python 3 (ipykernel)",
   "language": "python",
   "name": "python3"
  },
  "language_info": {
   "codemirror_mode": {
    "name": "ipython",
    "version": 3
   },
   "file_extension": ".py",
   "mimetype": "text/x-python",
   "name": "python",
   "nbconvert_exporter": "python",
   "pygments_lexer": "ipython3",
   "version": "3.9.13"
  }
 },
 "nbformat": 4,
 "nbformat_minor": 5
}
