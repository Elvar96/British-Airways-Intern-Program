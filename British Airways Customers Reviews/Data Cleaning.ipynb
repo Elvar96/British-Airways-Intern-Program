{
 "cells": [
  {
   "cell_type": "markdown",
   "id": "3ac80ac1-0703-432f-960b-24e1543b45e8",
   "metadata": {},
   "source": [
    "## Data Cleaning"
   ]
  },
  {
   "cell_type": "markdown",
   "id": "f32b7d17-105b-4e38-9457-0d81a666cb6a",
   "metadata": {},
   "source": [
    "Prior to conducting the dataset analysis, we must examine the dataset columns as it may be necessary to perform cleaning."
   ]
  },
  {
   "cell_type": "code",
   "execution_count": 39,
   "id": "9782f1a4-2a59-4927-a622-d413f0ff7868",
   "metadata": {},
   "outputs": [],
   "source": [
    "#Import libraries\n",
    "import numpy as np\n",
    "import pandas as pd\n",
    "import matplotlib.pyplot as plt \n",
    "import seaborn as sns "
   ]
  },
  {
   "cell_type": "code",
   "execution_count": 52,
   "id": "5c0c74b1-2241-4109-911a-08f2a32dd4e4",
   "metadata": {},
   "outputs": [],
   "source": [
    "#Read the file\n",
    "data=pd.read_csv('British_Airways_reviews.csv')"
   ]
  },
  {
   "cell_type": "code",
   "execution_count": 53,
   "id": "0f178b2d-cfa0-43ce-ae86-d77ffe5aa7ec",
   "metadata": {},
   "outputs": [],
   "source": [
    "#Replace columns of dataset\n",
    "data.columns=data.columns.str.lower()\n",
    "data.columns=data.columns.str.replace(' ','_')"
   ]
  },
  {
   "cell_type": "code",
   "execution_count": 42,
   "id": "0bf5894c-b23e-4772-9fb8-fa1d4aa2fd43",
   "metadata": {},
   "outputs": [
    {
     "data": {
      "text/html": [
       "<div>\n",
       "<style scoped>\n",
       "    .dataframe tbody tr th:only-of-type {\n",
       "        vertical-align: middle;\n",
       "    }\n",
       "\n",
       "    .dataframe tbody tr th {\n",
       "        vertical-align: top;\n",
       "    }\n",
       "\n",
       "    .dataframe thead th {\n",
       "        text-align: right;\n",
       "    }\n",
       "</style>\n",
       "<table border=\"1\" class=\"dataframe\">\n",
       "  <thead>\n",
       "    <tr style=\"text-align: right;\">\n",
       "      <th></th>\n",
       "      <th>date</th>\n",
       "      <th>review</th>\n",
       "      <th>country</th>\n",
       "      <th>star_rating</th>\n",
       "    </tr>\n",
       "  </thead>\n",
       "  <tbody>\n",
       "    <tr>\n",
       "      <th>0</th>\n",
       "      <td>24th July 2023</td>\n",
       "      <td>Not Verified | I booked Premium Economy from I...</td>\n",
       "      <td>United Kingdom</td>\n",
       "      <td>5</td>\n",
       "    </tr>\n",
       "    <tr>\n",
       "      <th>1</th>\n",
       "      <td>21st July 2023</td>\n",
       "      <td>✅ Trip Verified | A simple story with an unfor...</td>\n",
       "      <td>Germany</td>\n",
       "      <td>1</td>\n",
       "    </tr>\n",
       "    <tr>\n",
       "      <th>2</th>\n",
       "      <td>21st July 2023</td>\n",
       "      <td>✅ Trip Verified |  Flight was delayed due to t...</td>\n",
       "      <td>United Kingdom</td>\n",
       "      <td>1</td>\n",
       "    </tr>\n",
       "    <tr>\n",
       "      <th>3</th>\n",
       "      <td>20th July 2023</td>\n",
       "      <td>Not Verified |  Fast and friendly check in (to...</td>\n",
       "      <td>United Kingdom</td>\n",
       "      <td>4</td>\n",
       "    </tr>\n",
       "    <tr>\n",
       "      <th>4</th>\n",
       "      <td>20th July 2023</td>\n",
       "      <td>✅ Trip Verified |  I don't understand why Brit...</td>\n",
       "      <td>United Kingdom</td>\n",
       "      <td>8</td>\n",
       "    </tr>\n",
       "  </tbody>\n",
       "</table>\n",
       "</div>"
      ],
      "text/plain": [
       "             date                                             review  \\\n",
       "0  24th July 2023  Not Verified | I booked Premium Economy from I...   \n",
       "1  21st July 2023  ✅ Trip Verified | A simple story with an unfor...   \n",
       "2  21st July 2023  ✅ Trip Verified |  Flight was delayed due to t...   \n",
       "3  20th July 2023  Not Verified |  Fast and friendly check in (to...   \n",
       "4  20th July 2023  ✅ Trip Verified |  I don't understand why Brit...   \n",
       "\n",
       "          country  star_rating  \n",
       "0  United Kingdom            5  \n",
       "1         Germany            1  \n",
       "2  United Kingdom            1  \n",
       "3  United Kingdom            4  \n",
       "4  United Kingdom            8  "
      ]
     },
     "execution_count": 42,
     "metadata": {},
     "output_type": "execute_result"
    }
   ],
   "source": [
    "#First 5 rows of dataset\n",
    "data.head()"
   ]
  },
  {
   "cell_type": "code",
   "execution_count": 43,
   "id": "8fef79a8-656c-4343-a051-73877f990b1a",
   "metadata": {},
   "outputs": [
    {
     "data": {
      "text/plain": [
       "(2450, 4)"
      ]
     },
     "execution_count": 43,
     "metadata": {},
     "output_type": "execute_result"
    }
   ],
   "source": [
    "#Shape of dataset\n",
    "data.shape"
   ]
  },
  {
   "cell_type": "code",
   "execution_count": 54,
   "id": "e32152a4-66cb-48ca-9847-0a29c3ae1746",
   "metadata": {},
   "outputs": [
    {
     "data": {
      "text/plain": [
       "date           object\n",
       "review         object\n",
       "country        object\n",
       "star_rating     int64\n",
       "dtype: object"
      ]
     },
     "execution_count": 54,
     "metadata": {},
     "output_type": "execute_result"
    }
   ],
   "source": [
    "#Types of dataset columns\n",
    "data.dtypes"
   ]
  },
  {
   "cell_type": "code",
   "execution_count": 55,
   "id": "3acdc4a9-10df-462f-ae05-91e5870c8b29",
   "metadata": {},
   "outputs": [],
   "source": [
    "#Convert date column from object type to date type\n",
    "data.date=pd.to_datetime(data.date)"
   ]
  },
  {
   "cell_type": "markdown",
   "id": "4d319aec-9062-495f-97c8-880fc59b272f",
   "metadata": {},
   "source": [
    "## Rewiev column"
   ]
  },
  {
   "cell_type": "markdown",
   "id": "bf7a5883-3913-40f0-b3b6-92b40dc28274",
   "metadata": {},
   "source": [
    "The next thing that we should do is clean this data to remove any unnecessary text from each of the rows. For example, \"✅ Trip Verified\" can be removed from each row if it exists, as it's not relevant to what we want to investigate."
   ]
  },
  {
   "cell_type": "code",
   "execution_count": 58,
   "id": "631d5e9e-4993-495b-a6e5-90e1ec07cf53",
   "metadata": {},
   "outputs": [],
   "source": [
    "#Let's define a function to clean the review column\n",
    "def clean_review(review):\n",
    "    # Remove \"Not Verified |\" and \"✅ Trip Verified |\" from the review column\n",
    "    cleaned_review = review.replace(\"Not Verified |\", \"\").replace(\"✅ Trip Verified |\", \"\").strip()\n",
    "    return cleaned_review\n",
    "\n",
    "# Apply the clean_review function to the 'review' column and create a new 'cleaned_review' column\n",
    "data['cleaned_review'] = data['review'].apply(clean_review)\n",
    "\n",
    "# Reorder the columns to place 'cleaned_review' in the third position\n",
    "cols = data.columns.tolist()\n",
    "cols.insert(2, cols.pop(cols.index('cleaned_review')))\n",
    "data = data[cols]"
   ]
  },
  {
   "cell_type": "code",
   "execution_count": 59,
   "id": "9bdb15aa-1161-478c-af7c-093e0264271e",
   "metadata": {},
   "outputs": [
    {
     "data": {
      "text/html": [
       "<div>\n",
       "<style scoped>\n",
       "    .dataframe tbody tr th:only-of-type {\n",
       "        vertical-align: middle;\n",
       "    }\n",
       "\n",
       "    .dataframe tbody tr th {\n",
       "        vertical-align: top;\n",
       "    }\n",
       "\n",
       "    .dataframe thead th {\n",
       "        text-align: right;\n",
       "    }\n",
       "</style>\n",
       "<table border=\"1\" class=\"dataframe\">\n",
       "  <thead>\n",
       "    <tr style=\"text-align: right;\">\n",
       "      <th></th>\n",
       "      <th>date</th>\n",
       "      <th>review</th>\n",
       "      <th>cleaned_review</th>\n",
       "      <th>country</th>\n",
       "      <th>star_rating</th>\n",
       "    </tr>\n",
       "  </thead>\n",
       "  <tbody>\n",
       "    <tr>\n",
       "      <th>0</th>\n",
       "      <td>2023-07-24</td>\n",
       "      <td>Not Verified | I booked Premium Economy from I...</td>\n",
       "      <td>I booked Premium Economy from INV to LAX (via ...</td>\n",
       "      <td>United Kingdom</td>\n",
       "      <td>5</td>\n",
       "    </tr>\n",
       "    <tr>\n",
       "      <th>1</th>\n",
       "      <td>2023-07-21</td>\n",
       "      <td>✅ Trip Verified | A simple story with an unfor...</td>\n",
       "      <td>A simple story with an unfortunate outcome tha...</td>\n",
       "      <td>Germany</td>\n",
       "      <td>1</td>\n",
       "    </tr>\n",
       "    <tr>\n",
       "      <th>2</th>\n",
       "      <td>2023-07-21</td>\n",
       "      <td>✅ Trip Verified |  Flight was delayed due to t...</td>\n",
       "      <td>Flight was delayed due to the inbound flight a...</td>\n",
       "      <td>United Kingdom</td>\n",
       "      <td>1</td>\n",
       "    </tr>\n",
       "    <tr>\n",
       "      <th>3</th>\n",
       "      <td>2023-07-20</td>\n",
       "      <td>Not Verified |  Fast and friendly check in (to...</td>\n",
       "      <td>Fast and friendly check in (total contrast to ...</td>\n",
       "      <td>United Kingdom</td>\n",
       "      <td>4</td>\n",
       "    </tr>\n",
       "    <tr>\n",
       "      <th>4</th>\n",
       "      <td>2023-07-20</td>\n",
       "      <td>✅ Trip Verified |  I don't understand why Brit...</td>\n",
       "      <td>I don't understand why British Airways is clas...</td>\n",
       "      <td>United Kingdom</td>\n",
       "      <td>8</td>\n",
       "    </tr>\n",
       "  </tbody>\n",
       "</table>\n",
       "</div>"
      ],
      "text/plain": [
       "        date                                             review  \\\n",
       "0 2023-07-24  Not Verified | I booked Premium Economy from I...   \n",
       "1 2023-07-21  ✅ Trip Verified | A simple story with an unfor...   \n",
       "2 2023-07-21  ✅ Trip Verified |  Flight was delayed due to t...   \n",
       "3 2023-07-20  Not Verified |  Fast and friendly check in (to...   \n",
       "4 2023-07-20  ✅ Trip Verified |  I don't understand why Brit...   \n",
       "\n",
       "                                      cleaned_review         country  \\\n",
       "0  I booked Premium Economy from INV to LAX (via ...  United Kingdom   \n",
       "1  A simple story with an unfortunate outcome tha...         Germany   \n",
       "2  Flight was delayed due to the inbound flight a...  United Kingdom   \n",
       "3  Fast and friendly check in (total contrast to ...  United Kingdom   \n",
       "4  I don't understand why British Airways is clas...  United Kingdom   \n",
       "\n",
       "   star_rating  \n",
       "0            5  \n",
       "1            1  \n",
       "2            1  \n",
       "3            4  \n",
       "4            8  "
      ]
     },
     "execution_count": 59,
     "metadata": {},
     "output_type": "execute_result"
    }
   ],
   "source": [
    "#Let's check again first 5 rows of dataset \n",
    "data.head()"
   ]
  },
  {
   "cell_type": "code",
   "execution_count": 50,
   "id": "4245cf98-972c-4623-8e23-c309a0a2a628",
   "metadata": {},
   "outputs": [
    {
     "data": {
      "text/plain": [
       "date              0\n",
       "review            0\n",
       "country           0\n",
       "star_rating       0\n",
       "cleaned_review    0\n",
       "dtype: int64"
      ]
     },
     "execution_count": 50,
     "metadata": {},
     "output_type": "execute_result"
    }
   ],
   "source": [
    "#Check Null Values in Columns\n",
    "data.isnull().sum()"
   ]
  },
  {
   "cell_type": "code",
   "execution_count": 63,
   "id": "60fb4a0b-5475-4346-b680-4e221a0c628a",
   "metadata": {},
   "outputs": [
    {
     "data": {
      "text/plain": [
       "0"
      ]
     },
     "execution_count": 63,
     "metadata": {},
     "output_type": "execute_result"
    }
   ],
   "source": [
    "#Check Duplicate Values in Columns\n",
    "data.duplicated().sum()"
   ]
  },
  {
   "cell_type": "markdown",
   "id": "f62b3077-9137-4f3a-897f-671ed4bc83ba",
   "metadata": {},
   "source": [
    "## Create new csv file after cleaning the dataset"
   ]
  },
  {
   "cell_type": "code",
   "execution_count": 64,
   "id": "05707117-8247-4ac9-8f4e-0172258a058a",
   "metadata": {},
   "outputs": [],
   "source": [
    "data.to_csv('Cleaned_BA_reviews.csv', index=False)"
   ]
  },
  {
   "cell_type": "code",
   "execution_count": null,
   "id": "fb8a9796-a41b-4f53-9e0c-ba19f13eaf01",
   "metadata": {},
   "outputs": [],
   "source": []
  }
 ],
 "metadata": {
  "kernelspec": {
   "display_name": "Python 3 (ipykernel)",
   "language": "python",
   "name": "python3"
  },
  "language_info": {
   "codemirror_mode": {
    "name": "ipython",
    "version": 3
   },
   "file_extension": ".py",
   "mimetype": "text/x-python",
   "name": "python",
   "nbconvert_exporter": "python",
   "pygments_lexer": "ipython3",
   "version": "3.9.13"
  }
 },
 "nbformat": 4,
 "nbformat_minor": 5
}
